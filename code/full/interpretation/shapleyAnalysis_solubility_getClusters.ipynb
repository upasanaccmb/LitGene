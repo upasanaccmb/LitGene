{
 "cells": [
  {
   "cell_type": "code",
   "execution_count": null,
   "metadata": {},
   "outputs": [],
   "source": [
    "from shapleyAnalysis import *\n",
    "import sys\n",
    "import os\n",
    "import pandas as pd"
   ]
  },
  {
   "cell_type": "code",
   "execution_count": null,
   "metadata": {},
   "outputs": [],
   "source": [
    "clusters_path = 'data/enrichment_analysis1/'\n",
    "dataset_name = 'all'\n",
    "path_name = 'data/SHAPValues/clean_genes_solubility_3.pkl'\n",
    "shap_values = pickleLoad(path_name)\n",
    "input_data_path = \"clean_genes.csv\"\n",
    "gene_loaded_data = pd.read_csv(input_data_path)\n",
    "sentences = gene_loaded_data[\"Summary\"].tolist()\n",
    "geneNames = gene_loaded_data[\"Gene name\"].tolist()\n",
    "gene_to_idx = {gene:idx for idx, gene in enumerate(geneNames)}"
   ]
  },
  {
   "cell_type": "code",
   "execution_count": null,
   "metadata": {},
   "outputs": [],
   "source": [
    "nClusters = 19\n",
    "shap_values_clusters = []\n",
    "save_dir = 'data/SHAPValues/solubility_enrichment_analysis1/'\n",
    "for c in range(nClusters):\n",
    "    file_path = clusters_path+'GeneLLM_all_cluster'+str(c)+'.txt'\n",
    "    with open(file_path,'r') as clusterfile:\n",
    "        cluster = [line.strip() for line in clusterfile.readlines()]\n",
    "    idxs = [gene_to_idx[g] for g in cluster]\n",
    "    shap_values_dict_temp = {'data':[],'values':[],'indexes':idxs}\n",
    "    for i in idxs:\n",
    "        shap_values_dict_temp['data'].append(shap_values.data[i])\n",
    "        shap_values_dict_temp['values'].append(shap_values.values[i])\n",
    "    explanation = shap.Explanation(values=shap_values_dict_temp['values'],data = shap_values_dict_temp['data'])\n",
    "    pickleSave(explanation,save_dir,'cluster'+str(c)+'.pkl')\n",
    "    shap_values_clusters.append(shap_values_dict_temp)"
   ]
  },
  {
   "cell_type": "code",
   "execution_count": null,
   "metadata": {},
   "outputs": [],
   "source": [
    "\n",
    "\n",
    "\n"
   ]
  }
 ],
 "metadata": {
  "kernelspec": {
   "display_name": "deepV_a100",
   "language": "python",
   "name": "python3"
  },
  "language_info": {
   "codemirror_mode": {
    "name": "ipython",
    "version": 3
   },
   "file_extension": ".py",
   "mimetype": "text/x-python",
   "name": "python",
   "nbconvert_exporter": "python",
   "pygments_lexer": "ipython3",
   "version": "3.10.12"
  }
 },
 "nbformat": 4,
 "nbformat_minor": 2
}
