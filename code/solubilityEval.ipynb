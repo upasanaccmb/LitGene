{
 "cells": [
  {
   "cell_type": "code",
   "execution_count": 1,
   "id": "d459b913-327a-4af4-a1c0-fc38c5007ef4",
   "metadata": {},
   "outputs": [],
   "source": [
    "import transformers\n",
    "from transformers import XLNetTokenizer, XLNetModel, AutoModel, BertTokenizerFast, AdamW\n",
    "\n",
    "import torch\n",
    "import torch.nn as nn\n",
    "from torch.nn import MSELoss\n",
    "from torch.utils.data import DataLoader, Dataset, TensorDataset\n",
    "import torch.nn.functional as F\n",
    "\n",
    "from sklearn.model_selection import train_test_split\n",
    "from sklearn.metrics import accuracy_score, f1_score, recall_score, precision_score, classification_report\n",
    "from sklearn.metrics import mean_absolute_error, mean_squared_error, r2_score\n",
    "from sklearn.metrics.pairwise import cosine_similarity, pairwise_distances\n",
    "from sklearn.linear_model import LogisticRegression\n",
    "from sklearn.utils.class_weight import compute_class_weight\n",
    "from sklearn.preprocessing import LabelEncoder, MultiLabelBinarizer, StandardScaler\n",
    "\n",
    "from torch.nn import TripletMarginLoss\n",
    "\n",
    "import matplotlib.pyplot as plt\n",
    "import nltk\n",
    "from nltk.tokenize import word_tokenize, sent_tokenize\n",
    "from tqdm import tqdm\n",
    "from scipy.stats import spearmanr\n",
    "import mplcursors\n",
    "import time\n",
    "import random\n",
    "import pandas as pd\n",
    "import numpy as np\n",
    "import warnings\n",
    "import re\n",
    "import json\n",
    "import networkx as nx\n",
    "import obonet\n",
    "from collections import Counter\n",
    "import collections\n",
    "import pickle\n",
    "\n",
    "from pytorch_metric_learning.losses import NTXentLoss"
   ]
  },
  {
   "cell_type": "markdown",
   "id": "7cbb4fcf-a70b-46ad-b4be-a6362f427cbb",
   "metadata": {},
   "source": [
    "# Solubility"
   ]
  },
  {
   "cell_type": "code",
   "execution_count": 2,
   "id": "bb3c0b87-a095-46c2-ae31-85c55628c292",
   "metadata": {},
   "outputs": [
    {
     "data": {
      "text/plain": [
       "0"
      ]
     },
     "execution_count": 2,
     "metadata": {},
     "output_type": "execute_result"
    }
   ],
   "source": [
    "import torch\n",
    "import random\n",
    "import numpy as np\n",
    "import pandas as pd\n",
    "import gc\n",
    "from sklearn.metrics import accuracy_score\n",
    "\n",
    "from src.litgene import FineTunedBERT, getEmbeddings\n",
    "from src.utils import process_data\n",
    "from src.train import trainer\n",
    "\n",
    "torch.cuda.empty_cache()\n",
    "gc.collect()"
   ]
  },
  {
   "cell_type": "markdown",
   "id": "e6527fd7-008d-468a-a104-e18a81da48f9",
   "metadata": {},
   "source": [
    "### Load Pre-trained Model"
   ]
  },
  {
   "cell_type": "code",
   "execution_count": 3,
   "id": "f9c85520-5a99-443f-bbb9-43960eae463f",
   "metadata": {},
   "outputs": [
    {
     "name": "stderr",
     "output_type": "stream",
     "text": [
      "/usr/local/lib/python3.10/dist-packages/huggingface_hub/file_download.py:1150: FutureWarning: `resume_download` is deprecated and will be removed in version 1.0.0. Downloads always resume when possible. If you want to force a new download, use `force_download=True`.\n",
      "  warnings.warn(\n"
     ]
    }
   ],
   "source": [
    "import pickle\n",
    "\n",
    "dPathSolubility = '/home/tailab/LitGene/models/solubility/best_model.pth'\n",
    "\n",
    "pool = \"mean\"\n",
    "device = torch.device(\"cuda\" if torch.cuda.is_available() else \"cpu\")\n",
    "genes = pd.read_csv(\"data/combined_solubility.csv\")\n",
    "model_name= \"microsoft/BiomedNLP-PubMedBERT-base-uncased-abstract-fulltext\"\n",
    "\n",
    "# create instance of model\n",
    "model = FineTunedBERT(pool=pool,\n",
    "                      model_name=model_name,\n",
    "                      gene2vec_flag=False,\n",
    "                      gene2vec_hidden=200,\n",
    "                      task_type=\"unsupervised\",\n",
    "                      n_labels=len(set(genes.Label)),\n",
    "                      device=device).to(device)\n",
    "\n",
    "sol_model = torch.load(dPathSolubility)"
   ]
  },
  {
   "cell_type": "code",
   "execution_count": 4,
   "id": "94b2cf3a-e42f-40ad-93eb-98b86a8fd965",
   "metadata": {},
   "outputs": [
    {
     "data": {
      "text/plain": [
       "<All keys matched successfully>"
      ]
     },
     "execution_count": 4,
     "metadata": {},
     "output_type": "execute_result"
    }
   ],
   "source": [
    "model.load_state_dict(sol_model.module.state_dict())"
   ]
  },
  {
   "cell_type": "markdown",
   "id": "4fbd5826-1102-474a-bb81-3b0a06e294a2",
   "metadata": {},
   "source": [
    "### Get Embeddings"
   ]
  },
  {
   "cell_type": "code",
   "execution_count": 5,
   "id": "ddcda424-4092-43b7-88f8-cd651578a907",
   "metadata": {},
   "outputs": [],
   "source": [
    "# Data path\n",
    "geneDataPath = \"/home/tailab/LitGene/data/clean_genes.csv\"\n",
    "all_genes = pd.read_csv(geneDataPath)"
   ]
  },
  {
   "cell_type": "code",
   "execution_count": 6,
   "id": "0a2e50a7-0be0-455c-be1d-66efef6c72d1",
   "metadata": {},
   "outputs": [
    {
     "name": "stdout",
     "output_type": "stream",
     "text": [
      "Loading a pretrained model ...\n"
     ]
    },
    {
     "name": "stderr",
     "output_type": "stream",
     "text": [
      "/usr/local/lib/python3.10/dist-packages/huggingface_hub/file_download.py:1150: FutureWarning: `resume_download` is deprecated and will be removed in version 1.0.0. Downloads always resume when possible. If you want to force a new download, use `force_download=True`.\n",
      "  warnings.warn(\n"
     ]
    },
    {
     "data": {
      "application/vnd.jupyter.widget-view+json": {
       "model_id": "10fa266a82b8456885b973a0c55603ea",
       "version_major": 2,
       "version_minor": 0
      },
      "text/plain": [
       "tokenizer_config.json:   0%|          | 0.00/28.0 [00:00<?, ?B/s]"
      ]
     },
     "metadata": {},
     "output_type": "display_data"
    },
    {
     "data": {
      "application/vnd.jupyter.widget-view+json": {
       "model_id": "a0a78aab698c44d19edd6217b0163813",
       "version_major": 2,
       "version_minor": 0
      },
      "text/plain": [
       "vocab.txt:   0%|          | 0.00/226k [00:00<?, ?B/s]"
      ]
     },
     "metadata": {},
     "output_type": "display_data"
    },
    {
     "name": "stdout",
     "output_type": "stream",
     "text": [
      "Tokenization ...\n",
      "Tokenization Done.\n",
      "Get Embeddings ...\n"
     ]
    },
    {
     "name": "stderr",
     "output_type": "stream",
     "text": [
      "100%|███████████████████████████████████████████████████████████████████████████████████████████████████████████████████████████████████████████████████████████████████████████████████████████████████████████████████████████████████████████████████████████████████████████████████████████████████████████████| 723/723 [01:39<00:00,  7.25it/s]\n"
     ]
    },
    {
     "name": "stdout",
     "output_type": "stream",
     "text": [
      "(14450, 768)\n",
      "(14450, 2)\n"
     ]
    }
   ],
   "source": [
    "# get embeddings and solublity predictions for each gene\n",
    "sol_embeddings, sol_preds = getEmbeddings(all_genes[\"Summary\"].to_list(),\n",
    "                                          batch_size=20,\n",
    "                                          model = sol_model.module,\n",
    "                                          return_preds=True)"
   ]
  },
  {
   "cell_type": "code",
   "execution_count": 7,
   "id": "e21b961c-bf01-4bde-90e7-2016fbefa35d",
   "metadata": {},
   "outputs": [],
   "source": [
    "# compile predictions\n",
    "df_preds = pd.DataFrame({\n",
    "    'preds': ['Soluble' if pred == 1 else 'Insoluble' for pred in np.argmax(sol_preds, axis=1)]\n",
    "}, index=all_genes[\"Gene name\"].to_list())\n",
    "\n",
    "df_preds.index.name = 'Gene'"
   ]
  },
  {
   "cell_type": "code",
   "execution_count": 8,
   "id": "3c8da45e-cd9b-4e83-9aef-7fdee3144d84",
   "metadata": {},
   "outputs": [
    {
     "data": {
      "text/html": [
       "<div>\n",
       "<style scoped>\n",
       "    .dataframe tbody tr th:only-of-type {\n",
       "        vertical-align: middle;\n",
       "    }\n",
       "\n",
       "    .dataframe tbody tr th {\n",
       "        vertical-align: top;\n",
       "    }\n",
       "\n",
       "    .dataframe thead th {\n",
       "        text-align: right;\n",
       "    }\n",
       "</style>\n",
       "<table border=\"1\" class=\"dataframe\">\n",
       "  <thead>\n",
       "    <tr style=\"text-align: right;\">\n",
       "      <th></th>\n",
       "      <th>preds</th>\n",
       "    </tr>\n",
       "    <tr>\n",
       "      <th>Gene</th>\n",
       "      <th></th>\n",
       "    </tr>\n",
       "  </thead>\n",
       "  <tbody>\n",
       "    <tr>\n",
       "      <th>FES</th>\n",
       "      <td>Soluble</td>\n",
       "    </tr>\n",
       "    <tr>\n",
       "      <th>HADHA</th>\n",
       "      <td>Insoluble</td>\n",
       "    </tr>\n",
       "    <tr>\n",
       "      <th>SLC7A7</th>\n",
       "      <td>Insoluble</td>\n",
       "    </tr>\n",
       "    <tr>\n",
       "      <th>LCK</th>\n",
       "      <td>Insoluble</td>\n",
       "    </tr>\n",
       "    <tr>\n",
       "      <th>HSPA2</th>\n",
       "      <td>Soluble</td>\n",
       "    </tr>\n",
       "    <tr>\n",
       "      <th>...</th>\n",
       "      <td>...</td>\n",
       "    </tr>\n",
       "    <tr>\n",
       "      <th>BPY2C</th>\n",
       "      <td>Soluble</td>\n",
       "    </tr>\n",
       "    <tr>\n",
       "      <th>CLPS</th>\n",
       "      <td>Insoluble</td>\n",
       "    </tr>\n",
       "    <tr>\n",
       "      <th>DNER</th>\n",
       "      <td>Insoluble</td>\n",
       "    </tr>\n",
       "    <tr>\n",
       "      <th>SOX7</th>\n",
       "      <td>Soluble</td>\n",
       "    </tr>\n",
       "    <tr>\n",
       "      <th>CXCL14</th>\n",
       "      <td>Soluble</td>\n",
       "    </tr>\n",
       "  </tbody>\n",
       "</table>\n",
       "<p>14450 rows × 1 columns</p>\n",
       "</div>"
      ],
      "text/plain": [
       "            preds\n",
       "Gene             \n",
       "FES       Soluble\n",
       "HADHA   Insoluble\n",
       "SLC7A7  Insoluble\n",
       "LCK     Insoluble\n",
       "HSPA2     Soluble\n",
       "...           ...\n",
       "BPY2C     Soluble\n",
       "CLPS    Insoluble\n",
       "DNER    Insoluble\n",
       "SOX7      Soluble\n",
       "CXCL14    Soluble\n",
       "\n",
       "[14450 rows x 1 columns]"
      ]
     },
     "execution_count": 8,
     "metadata": {},
     "output_type": "execute_result"
    }
   ],
   "source": [
    "df_preds"
   ]
  }
 ],
 "metadata": {
  "kernelspec": {
   "display_name": "Python 3 (ipykernel)",
   "language": "python",
   "name": "python3"
  },
  "language_info": {
   "codemirror_mode": {
    "name": "ipython",
    "version": 3
   },
   "file_extension": ".py",
   "mimetype": "text/x-python",
   "name": "python",
   "nbconvert_exporter": "python",
   "pygments_lexer": "ipython3",
   "version": "3.10.12"
  }
 },
 "nbformat": 4,
 "nbformat_minor": 5
}
